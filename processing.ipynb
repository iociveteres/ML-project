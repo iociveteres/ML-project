{
 "cells": [
  {
   "cell_type": "code",
   "execution_count": 1,
   "metadata": {},
   "outputs": [
    {
     "name": "stderr",
     "output_type": "stream",
     "text": [
      "c:\\Soft\\Anaconda\\lib\\site-packages\\scipy\\__init__.py:146: UserWarning: A NumPy version >=1.16.5 and <1.23.0 is required for this version of SciPy (detected version 1.23.3\n",
      "  warnings.warn(f\"A NumPy version >={np_minversion} and <{np_maxversion}\"\n"
     ]
    }
   ],
   "source": [
    "import pandas as pd\n",
    "import numpy as np\n",
    "import seaborn as sns                       #visualisation\n",
    "import matplotlib.pyplot as plt             #visualisation\n",
    "%matplotlib inline    "
   ]
  },
  {
   "cell_type": "code",
   "execution_count": 35,
   "metadata": {},
   "outputs": [
    {
     "data": {
      "text/html": [
       "<div>\n",
       "<style scoped>\n",
       "    .dataframe tbody tr th:only-of-type {\n",
       "        vertical-align: middle;\n",
       "    }\n",
       "\n",
       "    .dataframe tbody tr th {\n",
       "        vertical-align: top;\n",
       "    }\n",
       "\n",
       "    .dataframe thead th {\n",
       "        text-align: right;\n",
       "    }\n",
       "</style>\n",
       "<table border=\"1\" class=\"dataframe\">\n",
       "  <thead>\n",
       "    <tr style=\"text-align: right;\">\n",
       "      <th></th>\n",
       "      <th>Cycle_Index</th>\n",
       "      <th>Start_Time</th>\n",
       "      <th>End_Time</th>\n",
       "      <th>Test_Time (s)</th>\n",
       "      <th>Min_Current (A)</th>\n",
       "      <th>Max_Current (A)</th>\n",
       "      <th>Min_Voltage (V)</th>\n",
       "      <th>Max_Voltage (V)</th>\n",
       "      <th>Charge_Capacity (Ah)</th>\n",
       "      <th>Discharge_Capacity (Ah)</th>\n",
       "      <th>Charge_Energy (Wh)</th>\n",
       "      <th>Discharge_Energy (Wh)</th>\n",
       "    </tr>\n",
       "  </thead>\n",
       "  <tbody>\n",
       "    <tr>\n",
       "      <th>0</th>\n",
       "      <td>1.0</td>\n",
       "      <td>NaN</td>\n",
       "      <td>NaN</td>\n",
       "      <td>10907.674</td>\n",
       "      <td>-0.550</td>\n",
       "      <td>0.905</td>\n",
       "      <td>2.699</td>\n",
       "      <td>4.201</td>\n",
       "      <td>0.108</td>\n",
       "      <td>1.268</td>\n",
       "      <td>0.455</td>\n",
       "      <td>4.717</td>\n",
       "    </tr>\n",
       "    <tr>\n",
       "      <th>1</th>\n",
       "      <td>2.0</td>\n",
       "      <td>NaN</td>\n",
       "      <td>NaN</td>\n",
       "      <td>28594.592</td>\n",
       "      <td>-0.550</td>\n",
       "      <td>1.275</td>\n",
       "      <td>2.699</td>\n",
       "      <td>4.200</td>\n",
       "      <td>1.268</td>\n",
       "      <td>1.269</td>\n",
       "      <td>5.073</td>\n",
       "      <td>4.725</td>\n",
       "    </tr>\n",
       "    <tr>\n",
       "      <th>2</th>\n",
       "      <td>3.0</td>\n",
       "      <td>NaN</td>\n",
       "      <td>NaN</td>\n",
       "      <td>46275.123</td>\n",
       "      <td>-0.551</td>\n",
       "      <td>1.293</td>\n",
       "      <td>2.699</td>\n",
       "      <td>4.200</td>\n",
       "      <td>1.268</td>\n",
       "      <td>1.269</td>\n",
       "      <td>5.071</td>\n",
       "      <td>4.730</td>\n",
       "    </tr>\n",
       "    <tr>\n",
       "      <th>3</th>\n",
       "      <td>4.0</td>\n",
       "      <td>NaN</td>\n",
       "      <td>NaN</td>\n",
       "      <td>63919.436</td>\n",
       "      <td>-0.551</td>\n",
       "      <td>1.273</td>\n",
       "      <td>2.699</td>\n",
       "      <td>4.200</td>\n",
       "      <td>1.269</td>\n",
       "      <td>1.269</td>\n",
       "      <td>5.076</td>\n",
       "      <td>4.727</td>\n",
       "    </tr>\n",
       "    <tr>\n",
       "      <th>4</th>\n",
       "      <td>5.0</td>\n",
       "      <td>NaN</td>\n",
       "      <td>NaN</td>\n",
       "      <td>81579.524</td>\n",
       "      <td>-0.550</td>\n",
       "      <td>1.281</td>\n",
       "      <td>2.699</td>\n",
       "      <td>4.212</td>\n",
       "      <td>1.268</td>\n",
       "      <td>1.268</td>\n",
       "      <td>5.072</td>\n",
       "      <td>4.724</td>\n",
       "    </tr>\n",
       "  </tbody>\n",
       "</table>\n",
       "</div>"
      ],
      "text/plain": [
       "   Cycle_Index  Start_Time  End_Time  Test_Time (s)  Min_Current (A)  \\\n",
       "0          1.0         NaN       NaN      10907.674           -0.550   \n",
       "1          2.0         NaN       NaN      28594.592           -0.550   \n",
       "2          3.0         NaN       NaN      46275.123           -0.551   \n",
       "3          4.0         NaN       NaN      63919.436           -0.551   \n",
       "4          5.0         NaN       NaN      81579.524           -0.550   \n",
       "\n",
       "   Max_Current (A)  Min_Voltage (V)  Max_Voltage (V)  Charge_Capacity (Ah)  \\\n",
       "0            0.905            2.699            4.201                 0.108   \n",
       "1            1.275            2.699            4.200                 1.268   \n",
       "2            1.293            2.699            4.200                 1.268   \n",
       "3            1.273            2.699            4.200                 1.269   \n",
       "4            1.281            2.699            4.212                 1.268   \n",
       "\n",
       "   Discharge_Capacity (Ah)  Charge_Energy (Wh)  Discharge_Energy (Wh)  \n",
       "0                    1.268               0.455                  4.717  \n",
       "1                    1.269               5.073                  4.725  \n",
       "2                    1.269               5.071                  4.730  \n",
       "3                    1.269               5.076                  4.727  \n",
       "4                    1.268               5.072                  4.724  "
      ]
     },
     "execution_count": 35,
     "metadata": {},
     "output_type": "execute_result"
    }
   ],
   "source": [
    "df = pd.read_csv(\"./Li-ion_Batteries/CALCE_CX2-16_prism_LCO_25C_0-100_0.5-0.5C_a_cycle_data.csv\")\n",
    "# To display the top 5 rows \n",
    "df.head(5)               "
   ]
  },
  {
   "cell_type": "code",
   "execution_count": 36,
   "metadata": {},
   "outputs": [
    {
     "data": {
      "text/html": [
       "<div>\n",
       "<style scoped>\n",
       "    .dataframe tbody tr th:only-of-type {\n",
       "        vertical-align: middle;\n",
       "    }\n",
       "\n",
       "    .dataframe tbody tr th {\n",
       "        vertical-align: top;\n",
       "    }\n",
       "\n",
       "    .dataframe thead th {\n",
       "        text-align: right;\n",
       "    }\n",
       "</style>\n",
       "<table border=\"1\" class=\"dataframe\">\n",
       "  <thead>\n",
       "    <tr style=\"text-align: right;\">\n",
       "      <th></th>\n",
       "      <th>Cycle_Index</th>\n",
       "      <th>Start_Time</th>\n",
       "      <th>End_Time</th>\n",
       "      <th>Test_Time (s)</th>\n",
       "      <th>Min_Current (A)</th>\n",
       "      <th>Max_Current (A)</th>\n",
       "      <th>Min_Voltage (V)</th>\n",
       "      <th>Max_Voltage (V)</th>\n",
       "      <th>Charge_Capacity (Ah)</th>\n",
       "      <th>Discharge_Capacity (Ah)</th>\n",
       "      <th>Charge_Energy (Wh)</th>\n",
       "      <th>Discharge_Energy (Wh)</th>\n",
       "    </tr>\n",
       "  </thead>\n",
       "  <tbody>\n",
       "    <tr>\n",
       "      <th>2011</th>\n",
       "      <td>2012.0</td>\n",
       "      <td>NaN</td>\n",
       "      <td>NaN</td>\n",
       "      <td>3.167216e+07</td>\n",
       "      <td>-0.675</td>\n",
       "      <td>1.300</td>\n",
       "      <td>2.699</td>\n",
       "      <td>4.200</td>\n",
       "      <td>0.865</td>\n",
       "      <td>0.876</td>\n",
       "      <td>3.515</td>\n",
       "      <td>3.123</td>\n",
       "    </tr>\n",
       "    <tr>\n",
       "      <th>2012</th>\n",
       "      <td>2013.0</td>\n",
       "      <td>NaN</td>\n",
       "      <td>NaN</td>\n",
       "      <td>3.168665e+07</td>\n",
       "      <td>-0.675</td>\n",
       "      <td>1.300</td>\n",
       "      <td>2.699</td>\n",
       "      <td>4.199</td>\n",
       "      <td>0.887</td>\n",
       "      <td>0.877</td>\n",
       "      <td>3.601</td>\n",
       "      <td>3.128</td>\n",
       "    </tr>\n",
       "    <tr>\n",
       "      <th>2013</th>\n",
       "      <td>2014.0</td>\n",
       "      <td>NaN</td>\n",
       "      <td>NaN</td>\n",
       "      <td>3.170035e+07</td>\n",
       "      <td>-0.675</td>\n",
       "      <td>1.269</td>\n",
       "      <td>2.699</td>\n",
       "      <td>4.200</td>\n",
       "      <td>0.849</td>\n",
       "      <td>0.833</td>\n",
       "      <td>3.449</td>\n",
       "      <td>2.957</td>\n",
       "    </tr>\n",
       "    <tr>\n",
       "      <th>2014</th>\n",
       "      <td>2015.0</td>\n",
       "      <td>NaN</td>\n",
       "      <td>NaN</td>\n",
       "      <td>3.171395e+07</td>\n",
       "      <td>-0.675</td>\n",
       "      <td>1.278</td>\n",
       "      <td>2.699</td>\n",
       "      <td>4.200</td>\n",
       "      <td>0.828</td>\n",
       "      <td>0.827</td>\n",
       "      <td>3.366</td>\n",
       "      <td>2.936</td>\n",
       "    </tr>\n",
       "    <tr>\n",
       "      <th>2015</th>\n",
       "      <td>2016.0</td>\n",
       "      <td>NaN</td>\n",
       "      <td>NaN</td>\n",
       "      <td>3.172761e+07</td>\n",
       "      <td>-0.675</td>\n",
       "      <td>1.310</td>\n",
       "      <td>2.699</td>\n",
       "      <td>4.200</td>\n",
       "      <td>0.829</td>\n",
       "      <td>0.828</td>\n",
       "      <td>3.374</td>\n",
       "      <td>2.941</td>\n",
       "    </tr>\n",
       "  </tbody>\n",
       "</table>\n",
       "</div>"
      ],
      "text/plain": [
       "      Cycle_Index  Start_Time  End_Time  Test_Time (s)  Min_Current (A)  \\\n",
       "2011       2012.0         NaN       NaN   3.167216e+07           -0.675   \n",
       "2012       2013.0         NaN       NaN   3.168665e+07           -0.675   \n",
       "2013       2014.0         NaN       NaN   3.170035e+07           -0.675   \n",
       "2014       2015.0         NaN       NaN   3.171395e+07           -0.675   \n",
       "2015       2016.0         NaN       NaN   3.172761e+07           -0.675   \n",
       "\n",
       "      Max_Current (A)  Min_Voltage (V)  Max_Voltage (V)  Charge_Capacity (Ah)  \\\n",
       "2011            1.300            2.699            4.200                 0.865   \n",
       "2012            1.300            2.699            4.199                 0.887   \n",
       "2013            1.269            2.699            4.200                 0.849   \n",
       "2014            1.278            2.699            4.200                 0.828   \n",
       "2015            1.310            2.699            4.200                 0.829   \n",
       "\n",
       "      Discharge_Capacity (Ah)  Charge_Energy (Wh)  Discharge_Energy (Wh)  \n",
       "2011                    0.876               3.515                  3.123  \n",
       "2012                    0.877               3.601                  3.128  \n",
       "2013                    0.833               3.449                  2.957  \n",
       "2014                    0.827               3.366                  2.936  \n",
       "2015                    0.828               3.374                  2.941  "
      ]
     },
     "execution_count": 36,
     "metadata": {},
     "output_type": "execute_result"
    }
   ],
   "source": [
    "df.tail(5)"
   ]
  },
  {
   "cell_type": "code",
   "execution_count": 4,
   "metadata": {},
   "outputs": [
    {
     "data": {
      "text/plain": [
       "2016.0"
      ]
     },
     "execution_count": 4,
     "metadata": {},
     "output_type": "execute_result"
    }
   ],
   "source": [
    "df['Cycle_Index'].iloc[-1]"
   ]
  },
  {
   "cell_type": "code",
   "execution_count": 15,
   "metadata": {},
   "outputs": [
    {
     "data": {
      "text/plain": [
       "1.2460909090909091"
      ]
     },
     "execution_count": 15,
     "metadata": {},
     "output_type": "execute_result"
    }
   ],
   "source": [
    "np.convolve(df['Charge_Capacity (Ah)'].iloc[14:25], np.ones(11)/11, mode='valid')[0]"
   ]
  },
  {
   "cell_type": "code",
   "execution_count": 19,
   "metadata": {},
   "outputs": [
    {
     "data": {
      "text/plain": [
       "array([1.25425])"
      ]
     },
     "execution_count": 19,
     "metadata": {},
     "output_type": "execute_result"
    }
   ],
   "source": [
    "row = 20\n",
    "np.convolve(df['Charge_Capacity (Ah)'].iloc[row - 10:row + 10], np.ones(20)/20, mode='valid')"
   ]
  },
  {
   "cell_type": "code",
   "execution_count": 30,
   "metadata": {},
   "outputs": [
    {
     "name": "stdout",
     "output_type": "stream",
     "text": [
      "17513.410999999964\n"
     ]
    }
   ],
   "source": [
    "cur_cycle_time = df['Test_Time (s)'].iloc[row] - df['Test_Time (s)'].iloc[row - 1]\n",
    "print(cur_cycle_time)"
   ]
  },
  {
   "cell_type": "code",
   "execution_count": 39,
   "metadata": {},
   "outputs": [],
   "source": [
    "str = 'CALCE_CX2-16_prism_LCO_25C_0-100_0.5-0.5C_a_cycle_data.csv'"
   ]
  },
  {
   "cell_type": "code",
   "execution_count": 40,
   "metadata": {},
   "outputs": [
    {
     "data": {
      "text/plain": [
       "'CALCE_CX2-16_prism_LCO_25C_0-100_0.5-0.5C_a'"
      ]
     },
     "execution_count": 40,
     "metadata": {},
     "output_type": "execute_result"
    }
   ],
   "source": [
    "str.replace('_cycle_data.csv', '')"
   ]
  },
  {
   "cell_type": "code",
   "execution_count": null,
   "metadata": {},
   "outputs": [],
   "source": [
    "def add_to_df(df_to_add_to: pd.DataFrame, df_to_add_from: pd.DataFrame, file_name):\n",
    "    df = df_to_add_from\n",
    "    \n",
    "    cycle_l = []\n",
    "    cycle_time_l = []\n",
    "    charge_capacity_l = []\n",
    "    discharge_capacity_l = []\n",
    "    charge_energy_l = []\n",
    "    discharge_energy_l = []\n",
    "\n",
    "    charge_capacity_change_l = []\n",
    "    discharge_capacity_change_l = []\n",
    "    charge_energy_change_l = []\n",
    "    discharge_energy_change_l = []\n",
    "    \n",
    "    init_charge_capacity = df['Charge_Capacity (Ah)'].iloc[0]\n",
    "    init_discharge_capacity = df['Disharge_Capacity (Ah)'].iloc[0]\n",
    "    init_charge_energy = df['Charge_Energy (Wh)'].iloc[0]\n",
    "    init_discharge_energy = df['Disharge_Energy (Wh)'].iloc[0]\n",
    "\n",
    "    cycle_l.append(0)\n",
    "    cycle_time_l.append(df['Test_Time (s)'].iloc[0])\n",
    "    charge_capacity_l.append(init_charge_capacity)\n",
    "    discharge_capacity_l.append(init_discharge_capacity)\n",
    "    charge_energy_l.append(init_charge_energy)\n",
    "    discharge_energy_l.append(init_discharge_energy)\n",
    "\n",
    "    charge_capacity_change_l.append(1)\n",
    "    discharge_capacity_change_l.append(1)\n",
    "    charge_energy_change_l.append(1)\n",
    "    discharge_energy_change_l.append(1)\n",
    "\n",
    "    for i, row in enumerate(range(20, df['Charge_Capacity (Ah)'].iloc[-1], 20)):\n",
    "        cur_cycle = row\n",
    "\n",
    "        cur_cycle_time = df['Test_Time (s)'].iloc[row] - df['Test_Time (s)'].iloc[row - 1]\n",
    "\n",
    "        cur_charge_capacity = np.convolve(df['Charge_Capacity (Ah)'].iloc[row - 10:row + 10], np.ones(20)/20, mode='valid')[0]\n",
    "        cur_charge_capacity_change = init_charge_capacity/cur_charge_capacity\n",
    "\n",
    "        cur_discharge_capacity = np.convolve(df['Disharge_Capacity (Ah)'].iloc[row - 10:row + 10], np.ones(20)/20, mode='valid')[0]\n",
    "        cur_discharge_capacity_change = init_discharge_capacity/cur_discharge_capacity\n",
    "\n",
    "        cur_charge_energy = np.convolve(df['Charge_Energy (Wh)'].iloc[row - 10:row + 10], np.ones(20)/20, mode='valid')[0]\n",
    "        cur_charge_energy_change = init_charge_energy/cur_charge_energy\n",
    "\n",
    "        cur_discharge_energy = np.convolve(df['Discharge_Energy (Wh)'].iloc[row - 10:row + 10], np.ones(20)/20, mode='valid')[0]\n",
    "        cur_discharge_energy_change = init_discharge_energy/cur_discharge_energy\n",
    "\n",
    "        cycle_l.append(cur_cycle)\n",
    "        cycle_time_l.append(df['Test_Time (s)'].iloc[0])\n",
    "        charge_capacity_l.append(cur_charge_capacity)\n",
    "        discharge_capacity_l.append(cur_discharge_capacity)\n",
    "        charge_energy_l.append(cur_charge_energy)\n",
    "        discharge_energy_l.append(cur_discharge_energy)\n",
    "\n",
    "        charge_capacity_change_l.append(cur_charge_capacity_change)\n",
    "        discharge_capacity_change_l.append(cur_discharge_capacity_change)\n",
    "        charge_energy_change_l.append(cur_charge_energy_change)\n",
    "        discharge_energy_change_l.append(cur_discharge_energy_change)\n",
    "\n",
    "    local_df = pd.DataFrame()\n",
    "\n",
    "    local_df[\"Cell Id\"] = np.array([file_name] * len(cycle_l))\n",
    "    local_df[\"Cycle\"] = np.array(cycle_l)\n",
    "    local_df[\"Cycle_time\"] = np.array(cycle_time_l)\n",
    "\n",
    "    local_df[\"Charge_capacity\"] = np.array(charge_capacity_l)\n",
    "    local_df[\"Charge_capacity_ratio\"] = np.array(charge_capacity_change_l)\n",
    "    local_df[\"Discharge_capacity\"] = np.array(discharge_capacity_l)\n",
    "    local_df[\"Discharge_capacity_ratio\"] = np.array(discharge_capacity_change_l)\n",
    "\n",
    "    local_df[\"Charge_energy\"] = np.array(charge_energy_l)\n",
    "    local_df[\"Charge_energy_ratio\"] = np.array(charge_energy_change_l)\n",
    "    local_df[\"Discharge_energy\"] = np.array(discharge_energy_l)\n",
    "    local_df[\"Discharge_energy_ratio\"] = np.array(discharge_energy_change_l)\n",
    "\n",
    "    pd.concat([df_to_add_to, local_df])\n",
    "    "
   ]
  },
  {
   "cell_type": "code",
   "execution_count": 95,
   "metadata": {},
   "outputs": [
    {
     "data": {
      "text/plain": [
       "Cycle_Index                float64\n",
       "Start_Time                 float64\n",
       "End_Time                   float64\n",
       "Test_Time (s)              float64\n",
       "Min_Current (A)            float64\n",
       "Max_Current (A)            float64\n",
       "Min_Voltage (V)            float64\n",
       "Max_Voltage (V)            float64\n",
       "Charge_Capacity (Ah)       float64\n",
       "Discharge_Capacity (Ah)    float64\n",
       "Charge_Energy (Wh)         float64\n",
       "Discharge_Energy (Wh)      float64\n",
       "dtype: object"
      ]
     },
     "execution_count": 95,
     "metadata": {},
     "output_type": "execute_result"
    }
   ],
   "source": [
    "df.dtypes"
   ]
  },
  {
   "cell_type": "code",
   "execution_count": 96,
   "metadata": {},
   "outputs": [
    {
     "name": "stdout",
     "output_type": "stream",
     "text": [
      "<class 'pandas.core.frame.DataFrame'>\n",
      "RangeIndex: 2016 entries, 0 to 2015\n",
      "Data columns (total 12 columns):\n",
      " #   Column                   Non-Null Count  Dtype  \n",
      "---  ------                   --------------  -----  \n",
      " 0   Cycle_Index              2016 non-null   float64\n",
      " 1   Start_Time               0 non-null      float64\n",
      " 2   End_Time                 0 non-null      float64\n",
      " 3   Test_Time (s)            2016 non-null   float64\n",
      " 4   Min_Current (A)          2016 non-null   float64\n",
      " 5   Max_Current (A)          2016 non-null   float64\n",
      " 6   Min_Voltage (V)          2016 non-null   float64\n",
      " 7   Max_Voltage (V)          2016 non-null   float64\n",
      " 8   Charge_Capacity (Ah)     2016 non-null   float64\n",
      " 9   Discharge_Capacity (Ah)  2016 non-null   float64\n",
      " 10  Charge_Energy (Wh)       2016 non-null   float64\n",
      " 11  Discharge_Energy (Wh)    2016 non-null   float64\n",
      "dtypes: float64(12)\n",
      "memory usage: 189.1 KB\n"
     ]
    }
   ],
   "source": [
    "df.info()"
   ]
  },
  {
   "cell_type": "code",
   "execution_count": 97,
   "metadata": {},
   "outputs": [
    {
     "data": {
      "text/html": [
       "<div>\n",
       "<style scoped>\n",
       "    .dataframe tbody tr th:only-of-type {\n",
       "        vertical-align: middle;\n",
       "    }\n",
       "\n",
       "    .dataframe tbody tr th {\n",
       "        vertical-align: top;\n",
       "    }\n",
       "\n",
       "    .dataframe thead th {\n",
       "        text-align: right;\n",
       "    }\n",
       "</style>\n",
       "<table border=\"1\" class=\"dataframe\">\n",
       "  <thead>\n",
       "    <tr style=\"text-align: right;\">\n",
       "      <th></th>\n",
       "      <th>count</th>\n",
       "      <th>mean</th>\n",
       "      <th>std</th>\n",
       "      <th>min</th>\n",
       "      <th>25%</th>\n",
       "      <th>50%</th>\n",
       "      <th>75%</th>\n",
       "      <th>max</th>\n",
       "    </tr>\n",
       "  </thead>\n",
       "  <tbody>\n",
       "    <tr>\n",
       "      <th>Cycle_Index</th>\n",
       "      <td>2016.0</td>\n",
       "      <td>1.008500e+03</td>\n",
       "      <td>5.821134e+02</td>\n",
       "      <td>1.000</td>\n",
       "      <td>5.047500e+02</td>\n",
       "      <td>1.008500e+03</td>\n",
       "      <td>1.512250e+03</td>\n",
       "      <td>2.016000e+03</td>\n",
       "    </tr>\n",
       "    <tr>\n",
       "      <th>Start_Time</th>\n",
       "      <td>0.0</td>\n",
       "      <td>NaN</td>\n",
       "      <td>NaN</td>\n",
       "      <td>NaN</td>\n",
       "      <td>NaN</td>\n",
       "      <td>NaN</td>\n",
       "      <td>NaN</td>\n",
       "      <td>NaN</td>\n",
       "    </tr>\n",
       "    <tr>\n",
       "      <th>End_Time</th>\n",
       "      <td>0.0</td>\n",
       "      <td>NaN</td>\n",
       "      <td>NaN</td>\n",
       "      <td>NaN</td>\n",
       "      <td>NaN</td>\n",
       "      <td>NaN</td>\n",
       "      <td>NaN</td>\n",
       "      <td>NaN</td>\n",
       "    </tr>\n",
       "    <tr>\n",
       "      <th>Test_Time (s)</th>\n",
       "      <td>2016.0</td>\n",
       "      <td>1.649939e+07</td>\n",
       "      <td>9.229917e+06</td>\n",
       "      <td>10907.674</td>\n",
       "      <td>8.542973e+06</td>\n",
       "      <td>1.677921e+07</td>\n",
       "      <td>2.459101e+07</td>\n",
       "      <td>3.172761e+07</td>\n",
       "    </tr>\n",
       "    <tr>\n",
       "      <th>Min_Current (A)</th>\n",
       "      <td>2016.0</td>\n",
       "      <td>-6.031895e-01</td>\n",
       "      <td>7.258767e-02</td>\n",
       "      <td>-0.675</td>\n",
       "      <td>-6.750000e-01</td>\n",
       "      <td>-5.500000e-01</td>\n",
       "      <td>-5.500000e-01</td>\n",
       "      <td>0.000000e+00</td>\n",
       "    </tr>\n",
       "    <tr>\n",
       "      <th>Max_Current (A)</th>\n",
       "      <td>2016.0</td>\n",
       "      <td>1.227115e+00</td>\n",
       "      <td>1.230012e-01</td>\n",
       "      <td>0.000</td>\n",
       "      <td>1.207000e+00</td>\n",
       "      <td>1.244500e+00</td>\n",
       "      <td>1.268250e+00</td>\n",
       "      <td>3.879000e+00</td>\n",
       "    </tr>\n",
       "    <tr>\n",
       "      <th>Min_Voltage (V)</th>\n",
       "      <td>2016.0</td>\n",
       "      <td>2.703217e+00</td>\n",
       "      <td>4.608502e-02</td>\n",
       "      <td>2.699</td>\n",
       "      <td>2.699000e+00</td>\n",
       "      <td>2.699000e+00</td>\n",
       "      <td>2.699000e+00</td>\n",
       "      <td>3.315000e+00</td>\n",
       "    </tr>\n",
       "    <tr>\n",
       "      <th>Max_Voltage (V)</th>\n",
       "      <td>2016.0</td>\n",
       "      <td>4.199373e+00</td>\n",
       "      <td>2.245615e-02</td>\n",
       "      <td>3.221</td>\n",
       "      <td>4.200000e+00</td>\n",
       "      <td>4.200000e+00</td>\n",
       "      <td>4.200000e+00</td>\n",
       "      <td>4.216000e+00</td>\n",
       "    </tr>\n",
       "    <tr>\n",
       "      <th>Charge_Capacity (Ah)</th>\n",
       "      <td>2016.0</td>\n",
       "      <td>1.061041e+00</td>\n",
       "      <td>1.529236e-01</td>\n",
       "      <td>0.000</td>\n",
       "      <td>9.730000e-01</td>\n",
       "      <td>1.058000e+00</td>\n",
       "      <td>1.183000e+00</td>\n",
       "      <td>1.470000e+00</td>\n",
       "    </tr>\n",
       "    <tr>\n",
       "      <th>Discharge_Capacity (Ah)</th>\n",
       "      <td>2016.0</td>\n",
       "      <td>1.069140e+00</td>\n",
       "      <td>2.955629e-01</td>\n",
       "      <td>0.000</td>\n",
       "      <td>9.730000e-01</td>\n",
       "      <td>1.060000e+00</td>\n",
       "      <td>1.185000e+00</td>\n",
       "      <td>1.249700e+01</td>\n",
       "    </tr>\n",
       "    <tr>\n",
       "      <th>Charge_Energy (Wh)</th>\n",
       "      <td>2016.0</td>\n",
       "      <td>4.264741e+00</td>\n",
       "      <td>6.001928e-01</td>\n",
       "      <td>0.000</td>\n",
       "      <td>3.923000e+00</td>\n",
       "      <td>4.254500e+00</td>\n",
       "      <td>4.742000e+00</td>\n",
       "      <td>5.919000e+00</td>\n",
       "    </tr>\n",
       "    <tr>\n",
       "      <th>Discharge_Energy (Wh)</th>\n",
       "      <td>2016.0</td>\n",
       "      <td>3.931576e+00</td>\n",
       "      <td>1.193093e+00</td>\n",
       "      <td>0.000</td>\n",
       "      <td>3.527750e+00</td>\n",
       "      <td>3.906500e+00</td>\n",
       "      <td>4.405000e+00</td>\n",
       "      <td>5.032200e+01</td>\n",
       "    </tr>\n",
       "  </tbody>\n",
       "</table>\n",
       "</div>"
      ],
      "text/plain": [
       "                          count          mean           std        min  \\\n",
       "Cycle_Index              2016.0  1.008500e+03  5.821134e+02      1.000   \n",
       "Start_Time                  0.0           NaN           NaN        NaN   \n",
       "End_Time                    0.0           NaN           NaN        NaN   \n",
       "Test_Time (s)            2016.0  1.649939e+07  9.229917e+06  10907.674   \n",
       "Min_Current (A)          2016.0 -6.031895e-01  7.258767e-02     -0.675   \n",
       "Max_Current (A)          2016.0  1.227115e+00  1.230012e-01      0.000   \n",
       "Min_Voltage (V)          2016.0  2.703217e+00  4.608502e-02      2.699   \n",
       "Max_Voltage (V)          2016.0  4.199373e+00  2.245615e-02      3.221   \n",
       "Charge_Capacity (Ah)     2016.0  1.061041e+00  1.529236e-01      0.000   \n",
       "Discharge_Capacity (Ah)  2016.0  1.069140e+00  2.955629e-01      0.000   \n",
       "Charge_Energy (Wh)       2016.0  4.264741e+00  6.001928e-01      0.000   \n",
       "Discharge_Energy (Wh)    2016.0  3.931576e+00  1.193093e+00      0.000   \n",
       "\n",
       "                                  25%           50%           75%  \\\n",
       "Cycle_Index              5.047500e+02  1.008500e+03  1.512250e+03   \n",
       "Start_Time                        NaN           NaN           NaN   \n",
       "End_Time                          NaN           NaN           NaN   \n",
       "Test_Time (s)            8.542973e+06  1.677921e+07  2.459101e+07   \n",
       "Min_Current (A)         -6.750000e-01 -5.500000e-01 -5.500000e-01   \n",
       "Max_Current (A)          1.207000e+00  1.244500e+00  1.268250e+00   \n",
       "Min_Voltage (V)          2.699000e+00  2.699000e+00  2.699000e+00   \n",
       "Max_Voltage (V)          4.200000e+00  4.200000e+00  4.200000e+00   \n",
       "Charge_Capacity (Ah)     9.730000e-01  1.058000e+00  1.183000e+00   \n",
       "Discharge_Capacity (Ah)  9.730000e-01  1.060000e+00  1.185000e+00   \n",
       "Charge_Energy (Wh)       3.923000e+00  4.254500e+00  4.742000e+00   \n",
       "Discharge_Energy (Wh)    3.527750e+00  3.906500e+00  4.405000e+00   \n",
       "\n",
       "                                  max  \n",
       "Cycle_Index              2.016000e+03  \n",
       "Start_Time                        NaN  \n",
       "End_Time                          NaN  \n",
       "Test_Time (s)            3.172761e+07  \n",
       "Min_Current (A)          0.000000e+00  \n",
       "Max_Current (A)          3.879000e+00  \n",
       "Min_Voltage (V)          3.315000e+00  \n",
       "Max_Voltage (V)          4.216000e+00  \n",
       "Charge_Capacity (Ah)     1.470000e+00  \n",
       "Discharge_Capacity (Ah)  1.249700e+01  \n",
       "Charge_Energy (Wh)       5.919000e+00  \n",
       "Discharge_Energy (Wh)    5.032200e+01  "
      ]
     },
     "execution_count": 97,
     "metadata": {},
     "output_type": "execute_result"
    }
   ],
   "source": [
    "df.describe().T"
   ]
  },
  {
   "cell_type": "code",
   "execution_count": 98,
   "metadata": {},
   "outputs": [
    {
     "data": {
      "text/plain": [
       "(2016, 12)"
      ]
     },
     "execution_count": 98,
     "metadata": {},
     "output_type": "execute_result"
    }
   ],
   "source": [
    "df.shape"
   ]
  },
  {
   "cell_type": "code",
   "execution_count": 99,
   "metadata": {},
   "outputs": [
    {
     "ename": "KeyError",
     "evalue": "'Cycle'",
     "output_type": "error",
     "traceback": [
      "\u001b[1;31m---------------------------------------------------------------------------\u001b[0m",
      "\u001b[1;31mKeyError\u001b[0m                                  Traceback (most recent call last)",
      "File \u001b[1;32mc:\\Soft\\Anaconda\\lib\\site-packages\\pandas\\core\\indexes\\base.py:3621\u001b[0m, in \u001b[0;36mIndex.get_loc\u001b[1;34m(self, key, method, tolerance)\u001b[0m\n\u001b[0;32m   3620\u001b[0m \u001b[39mtry\u001b[39;00m:\n\u001b[1;32m-> 3621\u001b[0m     \u001b[39mreturn\u001b[39;00m \u001b[39mself\u001b[39;49m\u001b[39m.\u001b[39;49m_engine\u001b[39m.\u001b[39;49mget_loc(casted_key)\n\u001b[0;32m   3622\u001b[0m \u001b[39mexcept\u001b[39;00m \u001b[39mKeyError\u001b[39;00m \u001b[39mas\u001b[39;00m err:\n",
      "File \u001b[1;32mc:\\Soft\\Anaconda\\lib\\site-packages\\pandas\\_libs\\index.pyx:136\u001b[0m, in \u001b[0;36mpandas._libs.index.IndexEngine.get_loc\u001b[1;34m()\u001b[0m\n",
      "File \u001b[1;32mc:\\Soft\\Anaconda\\lib\\site-packages\\pandas\\_libs\\index.pyx:163\u001b[0m, in \u001b[0;36mpandas._libs.index.IndexEngine.get_loc\u001b[1;34m()\u001b[0m\n",
      "File \u001b[1;32mpandas\\_libs\\hashtable_class_helper.pxi:5198\u001b[0m, in \u001b[0;36mpandas._libs.hashtable.PyObjectHashTable.get_item\u001b[1;34m()\u001b[0m\n",
      "File \u001b[1;32mpandas\\_libs\\hashtable_class_helper.pxi:5206\u001b[0m, in \u001b[0;36mpandas._libs.hashtable.PyObjectHashTable.get_item\u001b[1;34m()\u001b[0m\n",
      "\u001b[1;31mKeyError\u001b[0m: 'Cycle'",
      "\nThe above exception was the direct cause of the following exception:\n",
      "\u001b[1;31mKeyError\u001b[0m                                  Traceback (most recent call last)",
      "\u001b[1;32md:\\Work\\Study\\4. Machine Learning\\project\\project.ipynb Cell 7\u001b[0m in \u001b[0;36m<cell line: 1>\u001b[1;34m()\u001b[0m\n\u001b[1;32m----> <a href='vscode-notebook-cell:/d%3A/Work/Study/4.%20Machine%20Learning/project/project.ipynb#Y203sZmlsZQ%3D%3D?line=0'>1</a>\u001b[0m df\u001b[39m.\u001b[39mloc[df[\u001b[39m'\u001b[39;49m\u001b[39mCycle\u001b[39;49m\u001b[39m'\u001b[39;49m] \u001b[39m==\u001b[39m \u001b[39m'\u001b[39m\u001b[39m81\u001b[39m\u001b[39m'\u001b[39m]\n",
      "File \u001b[1;32mc:\\Soft\\Anaconda\\lib\\site-packages\\pandas\\core\\frame.py:3505\u001b[0m, in \u001b[0;36mDataFrame.__getitem__\u001b[1;34m(self, key)\u001b[0m\n\u001b[0;32m   3503\u001b[0m \u001b[39mif\u001b[39;00m \u001b[39mself\u001b[39m\u001b[39m.\u001b[39mcolumns\u001b[39m.\u001b[39mnlevels \u001b[39m>\u001b[39m \u001b[39m1\u001b[39m:\n\u001b[0;32m   3504\u001b[0m     \u001b[39mreturn\u001b[39;00m \u001b[39mself\u001b[39m\u001b[39m.\u001b[39m_getitem_multilevel(key)\n\u001b[1;32m-> 3505\u001b[0m indexer \u001b[39m=\u001b[39m \u001b[39mself\u001b[39;49m\u001b[39m.\u001b[39;49mcolumns\u001b[39m.\u001b[39;49mget_loc(key)\n\u001b[0;32m   3506\u001b[0m \u001b[39mif\u001b[39;00m is_integer(indexer):\n\u001b[0;32m   3507\u001b[0m     indexer \u001b[39m=\u001b[39m [indexer]\n",
      "File \u001b[1;32mc:\\Soft\\Anaconda\\lib\\site-packages\\pandas\\core\\indexes\\base.py:3623\u001b[0m, in \u001b[0;36mIndex.get_loc\u001b[1;34m(self, key, method, tolerance)\u001b[0m\n\u001b[0;32m   3621\u001b[0m     \u001b[39mreturn\u001b[39;00m \u001b[39mself\u001b[39m\u001b[39m.\u001b[39m_engine\u001b[39m.\u001b[39mget_loc(casted_key)\n\u001b[0;32m   3622\u001b[0m \u001b[39mexcept\u001b[39;00m \u001b[39mKeyError\u001b[39;00m \u001b[39mas\u001b[39;00m err:\n\u001b[1;32m-> 3623\u001b[0m     \u001b[39mraise\u001b[39;00m \u001b[39mKeyError\u001b[39;00m(key) \u001b[39mfrom\u001b[39;00m \u001b[39merr\u001b[39;00m\n\u001b[0;32m   3624\u001b[0m \u001b[39mexcept\u001b[39;00m \u001b[39mTypeError\u001b[39;00m:\n\u001b[0;32m   3625\u001b[0m     \u001b[39m# If we have a listlike key, _check_indexing_error will raise\u001b[39;00m\n\u001b[0;32m   3626\u001b[0m     \u001b[39m#  InvalidIndexError. Otherwise we fall through and re-raise\u001b[39;00m\n\u001b[0;32m   3627\u001b[0m     \u001b[39m#  the TypeError.\u001b[39;00m\n\u001b[0;32m   3628\u001b[0m     \u001b[39mself\u001b[39m\u001b[39m.\u001b[39m_check_indexing_error(key)\n",
      "\u001b[1;31mKeyError\u001b[0m: 'Cycle'"
     ]
    }
   ],
   "source": [
    "df.loc[df['Cycle'] == '81']"
   ]
  },
  {
   "cell_type": "code",
   "execution_count": null,
   "metadata": {},
   "outputs": [],
   "source": [
    "#df.StratificationCategoryId1.unique()"
   ]
  },
  {
   "cell_type": "code",
   "execution_count": null,
   "metadata": {},
   "outputs": [],
   "source": [
    "#df..value_counts()"
   ]
  }
 ],
 "metadata": {
  "kernelspec": {
   "display_name": "Python 3.9.12 ('base')",
   "language": "python",
   "name": "python3"
  },
  "language_info": {
   "codemirror_mode": {
    "name": "ipython",
    "version": 3
   },
   "file_extension": ".py",
   "mimetype": "text/x-python",
   "name": "python",
   "nbconvert_exporter": "python",
   "pygments_lexer": "ipython3",
   "version": "3.9.12"
  },
  "orig_nbformat": 4,
  "vscode": {
   "interpreter": {
    "hash": "4adb2b3a86768c0ab9c68d017220c97866613aeca6db1d74ccc533002803c558"
   }
  }
 },
 "nbformat": 4,
 "nbformat_minor": 2
}
